{
 "cells": [
  {
   "cell_type": "code",
   "execution_count": 1,
   "id": "73512538-8a62-4244-aa51-0fe0edfeab10",
   "metadata": {},
   "outputs": [],
   "source": [
    "from aocd.models import Puzzle\n",
    "import dotenv\n",
    "import numpy as np\n",
    "\n",
    "dotenv.load_dotenv();"
   ]
  },
  {
   "cell_type": "code",
   "execution_count": 2,
   "id": "14fe37c3-1371-4c73-af1d-2c43d0a1a420",
   "metadata": {},
   "outputs": [
    {
     "data": {
      "text/plain": [
       "array([ 157,  148,  149, ..., 8016, 8020, 8026])"
      ]
     },
     "execution_count": 2,
     "metadata": {},
     "output_type": "execute_result"
    }
   ],
   "source": [
    "puzzle = Puzzle(2021, 1)\n",
    "data = np.array(puzzle.input_data.splitlines()).astype(int)\n",
    "data"
   ]
  },
  {
   "cell_type": "code",
   "execution_count": 3,
   "id": "713bf47d-36d2-437d-97db-13434a2a6bff",
   "metadata": {},
   "outputs": [
    {
     "name": "stdout",
     "output_type": "stream",
     "text": [
      "Part a already solved with same answer: 1548\n"
     ]
    }
   ],
   "source": [
    "puzzle.answer_a = (np.diff(data) > 0).sum()"
   ]
  },
  {
   "cell_type": "code",
   "execution_count": 4,
   "id": "b07fd390-0aeb-4aea-89b5-d79a2c55a91a",
   "metadata": {},
   "outputs": [
    {
     "data": {
      "text/plain": [
       "array([[ 157,  148,  149],\n",
       "       [ 148,  149,  146],\n",
       "       [ 149,  146,  144],\n",
       "       ...,\n",
       "       [8007, 8010, 8016],\n",
       "       [8010, 8016, 8020],\n",
       "       [8016, 8020, 8026]])"
      ]
     },
     "execution_count": 4,
     "metadata": {},
     "output_type": "execute_result"
    }
   ],
   "source": [
    "sliding = np.lib.stride_tricks.sliding_window_view(data, 3)\n",
    "sliding"
   ]
  },
  {
   "cell_type": "code",
   "execution_count": 5,
   "id": "d7aa0844-985d-44b9-9306-296cd96f55fb",
   "metadata": {},
   "outputs": [
    {
     "name": "stdout",
     "output_type": "stream",
     "text": [
      "Part b already solved with same answer: 1589\n"
     ]
    }
   ],
   "source": [
    "puzzle.answer_b = (np.diff(sliding.sum(axis=1)) > 0).sum()"
   ]
  },
  {
   "cell_type": "code",
   "execution_count": null,
   "id": "c28cc297-10a3-4617-a8c2-319b88ab228c",
   "metadata": {},
   "outputs": [],
   "source": []
  }
 ],
 "metadata": {
  "kernelspec": {
   "display_name": "Python 3 (ipykernel)",
   "language": "python",
   "name": "python3"
  },
  "language_info": {
   "codemirror_mode": {
    "name": "ipython",
    "version": 3
   },
   "file_extension": ".py",
   "mimetype": "text/x-python",
   "name": "python",
   "nbconvert_exporter": "python",
   "pygments_lexer": "ipython3",
   "version": "3.10.0"
  }
 },
 "nbformat": 4,
 "nbformat_minor": 5
}
