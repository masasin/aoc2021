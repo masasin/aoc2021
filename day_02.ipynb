{
 "cells": [
  {
   "cell_type": "code",
   "execution_count": 1,
   "id": "73512538-8a62-4244-aa51-0fe0edfeab10",
   "metadata": {},
   "outputs": [],
   "source": [
    "from aocd.models import Puzzle\n",
    "import dotenv\n",
    "\n",
    "dotenv.load_dotenv();"
   ]
  },
  {
   "cell_type": "code",
   "execution_count": 2,
   "id": "14fe37c3-1371-4c73-af1d-2c43d0a1a420",
   "metadata": {},
   "outputs": [],
   "source": [
    "puzzle = Puzzle(2021, _)\n",
    "data = puzzle.input_data.splitlines()\n",
    "directions, values = zip(*(command.split(\" \") for command in data))\n",
    "values = [int(value) for value in values]"
   ]
  },
  {
   "cell_type": "code",
   "execution_count": 3,
   "id": "d3f286b3-9048-4bff-80dc-dd553c4ab59e",
   "metadata": {},
   "outputs": [],
   "source": [
    "horizontal, vertical = 0, 0\n",
    "for direction, value in zip(directions, values):\n",
    "    if direction == \"forward\":\n",
    "        horizontal += value\n",
    "    elif direction == \"down\":\n",
    "        vertical += value\n",
    "    elif direction == \"up\":\n",
    "        vertical -= value\n",
    "\n",
    "puzzle.answer_a = horizontal * vertical"
   ]
  },
  {
   "cell_type": "code",
   "execution_count": 4,
   "id": "c28cc297-10a3-4617-a8c2-319b88ab228c",
   "metadata": {},
   "outputs": [],
   "source": [
    "horizontal, vertical, aim = 0, 0, 0\n",
    "for direction, value in zip(directions, values):\n",
    "    if direction == \"forward\":\n",
    "        horizontal += value\n",
    "        vertical += aim * value\n",
    "    elif direction == \"down\":\n",
    "        aim += value\n",
    "    elif direction == \"up\":\n",
    "        aim -= value\n",
    "\n",
    "puzzle.answer_b = horizontal * vertical"
   ]
  },
  {
   "cell_type": "code",
   "execution_count": null,
   "id": "868598ae-d15d-442b-8615-e10364652e08",
   "metadata": {},
   "outputs": [],
   "source": []
  }
 ],
 "metadata": {
  "kernelspec": {
   "display_name": "Python 3 (ipykernel)",
   "language": "python",
   "name": "python3"
  },
  "language_info": {
   "codemirror_mode": {
    "name": "ipython",
    "version": 3
   },
   "file_extension": ".py",
   "mimetype": "text/x-python",
   "name": "python",
   "nbconvert_exporter": "python",
   "pygments_lexer": "ipython3",
   "version": "3.10.0"
  }
 },
 "nbformat": 4,
 "nbformat_minor": 5
}
