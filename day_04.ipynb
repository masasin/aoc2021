{
 "cells": [
  {
   "cell_type": "code",
   "execution_count": 1,
   "id": "73512538-8a62-4244-aa51-0fe0edfeab10",
   "metadata": {},
   "outputs": [],
   "source": [
    "from aocd.models import Puzzle\n",
    "import dotenv\n",
    "import numpy as np\n",
    "\n",
    "dotenv.load_dotenv();"
   ]
  },
  {
   "cell_type": "code",
   "execution_count": 2,
   "id": "868598ae-d15d-442b-8615-e10364652e08",
   "metadata": {},
   "outputs": [],
   "source": [
    "class Board:\n",
    "    def __init__(self, board):\n",
    "        self._board = np.array(board)\n",
    "        self.reset()\n",
    "        \n",
    "    def reset(self):\n",
    "        n_rows, n_cols = self._board.shape\n",
    "        self._rows = {row: n_cols for row in range(n_rows)}\n",
    "        self._cols = {col: n_rows for col in range(n_cols)}\n",
    "        \n",
    "        self._draws = set()\n",
    "        self._last_draw = 0\n",
    "        self.bingo = False\n",
    "    \n",
    "    def draw(self, number):\n",
    "        self._draws.add(number)\n",
    "        self._last_draw = number\n",
    "        \n",
    "        if number not in self._board:\n",
    "            return\n",
    "        \n",
    "        row, col = np.where(self._board == number)\n",
    "        self._rows[row[0]] -= 1\n",
    "        self._cols[col[0]] -= 1\n",
    "\n",
    "        self.bingo = self._rows[row[0]] == 0 or self._cols[col[0]] == 0\n",
    "        return self\n",
    "        \n",
    "    def score(self):\n",
    "        return sum(set(self._board.flatten()) - self._draws) * self._last_draw\n",
    "    \n",
    "    @property\n",
    "    def board(self):\n",
    "        return \"\\n\".join(\n",
    "            \" \".join(f\"{'✔' if number in self._draws else ' '}{number:02d}　\" for number in row)\n",
    "            for row in self._board\n",
    "        )\n",
    "    \n",
    "    def __repr__(self):\n",
    "        printout = self.board\n",
    "        if self.bingo:\n",
    "            printout += \"\\nBINGO!\"\n",
    "        return printout"
   ]
  },
  {
   "cell_type": "code",
   "execution_count": 3,
   "id": "14fe37c3-1371-4c73-af1d-2c43d0a1a420",
   "metadata": {},
   "outputs": [],
   "source": [
    "puzzle = Puzzle(2021, 4)\n",
    "data = puzzle.input_data.splitlines()\n",
    "draws = [int(i) for i in data[0].split(\",\")]\n",
    "boards = [Board([[int(number) for number in row.split()] for row in data[i:i+5]]) for i in range(2, len(data), 6)]"
   ]
  },
  {
   "cell_type": "code",
   "execution_count": 4,
   "id": "d9f98c24-9f1c-4f8c-94a6-d620ac7d6ba3",
   "metadata": {
    "tags": []
   },
   "outputs": [
    {
     "name": "stdout",
     "output_type": "stream",
     "text": [
      "Part a already solved with same answer: 34506\n"
     ]
    }
   ],
   "source": [
    "[board.reset() for board in boards]\n",
    "for number in draws:\n",
    "    for board in boards:\n",
    "        board.draw(number)\n",
    "        if board.bingo:\n",
    "            puzzle.answer_a = board.score()\n",
    "            break\n",
    "    else:\n",
    "        continue\n",
    "    break"
   ]
  },
  {
   "cell_type": "code",
   "execution_count": 5,
   "id": "eb9756c5-4005-4492-ae40-bfc9f3f9b710",
   "metadata": {},
   "outputs": [
    {
     "name": "stdout",
     "output_type": "stream",
     "text": [
      "Part b already solved with same answer: 7686\n"
     ]
    }
   ],
   "source": [
    "[board.reset() for board in boards]\n",
    "boards_remaining = boards[:]\n",
    "for number in draws:\n",
    "    for board in boards_remaining:\n",
    "        board.draw(number)\n",
    "    for board in boards_remaining:\n",
    "        if board.bingo:\n",
    "            boards_remaining.remove(board)\n",
    "puzzle.answer_b = board.score()"
   ]
  },
  {
   "cell_type": "code",
   "execution_count": null,
   "id": "41b646e2-5326-48ce-bd68-416657ea65b3",
   "metadata": {},
   "outputs": [],
   "source": []
  }
 ],
 "metadata": {
  "kernelspec": {
   "display_name": "Python 3 (ipykernel)",
   "language": "python",
   "name": "python3"
  },
  "language_info": {
   "codemirror_mode": {
    "name": "ipython",
    "version": 3
   },
   "file_extension": ".py",
   "mimetype": "text/x-python",
   "name": "python",
   "nbconvert_exporter": "python",
   "pygments_lexer": "ipython3",
   "version": "3.10.0"
  }
 },
 "nbformat": 4,
 "nbformat_minor": 5
}
