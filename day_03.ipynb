{
 "cells": [
  {
   "cell_type": "code",
   "execution_count": 1,
   "id": "73512538-8a62-4244-aa51-0fe0edfeab10",
   "metadata": {},
   "outputs": [],
   "source": [
    "from aocd.models import Puzzle\n",
    "import dotenv\n",
    "import numpy as np\n",
    "\n",
    "dotenv.load_dotenv();"
   ]
  },
  {
   "cell_type": "code",
   "execution_count": 2,
   "id": "14fe37c3-1371-4c73-af1d-2c43d0a1a420",
   "metadata": {},
   "outputs": [
    {
     "data": {
      "text/plain": [
       "array([[0, 1, 0, ..., 0, 0, 0],\n",
       "       [0, 1, 0, ..., 1, 1, 0],\n",
       "       [0, 1, 0, ..., 0, 1, 1],\n",
       "       ...,\n",
       "       [0, 1, 0, ..., 1, 1, 0],\n",
       "       [0, 1, 1, ..., 1, 1, 0],\n",
       "       [0, 1, 1, ..., 0, 1, 0]])"
      ]
     },
     "execution_count": 2,
     "metadata": {},
     "output_type": "execute_result"
    }
   ],
   "source": [
    "puzzle = Puzzle(2021, 3)\n",
    "data = np.array([[int(i) for i in line] for line in puzzle.input_data.splitlines()])\n",
    "data"
   ]
  },
  {
   "cell_type": "code",
   "execution_count": 3,
   "id": "d3f286b3-9048-4bff-80dc-dd553c4ab59e",
   "metadata": {},
   "outputs": [
    {
     "data": {
      "text/plain": [
       "array([False, False, False,  True,  True, False, False, False,  True,\n",
       "       False,  True, False])"
      ]
     },
     "execution_count": 3,
     "metadata": {},
     "output_type": "execute_result"
    }
   ],
   "source": [
    "gamma = (data.sum(axis=0) > (len(data) // 2))\n",
    "epsilon = ~gamma\n",
    "gamma"
   ]
  },
  {
   "cell_type": "code",
   "execution_count": 4,
   "id": "3cc0490f-e54b-4077-b67b-6defd375da94",
   "metadata": {},
   "outputs": [],
   "source": [
    "def bits_to_int(bits):\n",
    "    return int(\"\".join(str(i) for i in bits.astype(int)), 2)"
   ]
  },
  {
   "cell_type": "code",
   "execution_count": 5,
   "id": "66f578a0-9377-4481-a206-76ff625ab378",
   "metadata": {},
   "outputs": [],
   "source": [
    "puzzle.answer_a = bits_to_int(gamma) * bits_to_int(epsilon)"
   ]
  },
  {
   "cell_type": "code",
   "execution_count": 6,
   "id": "06525e66-3cf7-40e3-b21c-a46e793ccd16",
   "metadata": {},
   "outputs": [],
   "source": [
    "def eclss(array, use_greater, position=0):\n",
    "    size = len(array)\n",
    "    if size == 1:\n",
    "        return array[0]\n",
    "    count = array[:, position].sum()\n",
    "    if (count == size - count):\n",
    "        key = use_greater\n",
    "    elif use_greater:\n",
    "        key = count > size / 2\n",
    "    else:\n",
    "        key = count < size / 2\n",
    "    subset = array[array[:, position] == key]\n",
    "    return eclss(subset, use_greater, position + 1)"
   ]
  },
  {
   "cell_type": "code",
   "execution_count": 7,
   "id": "8479a087-f550-4d3e-806b-cb4f2111eedb",
   "metadata": {},
   "outputs": [],
   "source": [
    "oxygen = eclss(data, True)\n",
    "co2 = eclss(data, False)"
   ]
  },
  {
   "cell_type": "code",
   "execution_count": 8,
   "id": "b072f231-f63a-4d2f-a697-15a412c6e27f",
   "metadata": {},
   "outputs": [],
   "source": [
    "puzzle.answer_b = bits_to_int(oxygen) * bits_to_int(co2)"
   ]
  },
  {
   "cell_type": "code",
   "execution_count": null,
   "id": "2bef7cbe-83e4-42ab-b498-a99cf4853ec5",
   "metadata": {},
   "outputs": [],
   "source": []
  }
 ],
 "metadata": {
  "kernelspec": {
   "display_name": "Python 3 (ipykernel)",
   "language": "python",
   "name": "python3"
  },
  "language_info": {
   "codemirror_mode": {
    "name": "ipython",
    "version": 3
   },
   "file_extension": ".py",
   "mimetype": "text/x-python",
   "name": "python",
   "nbconvert_exporter": "python",
   "pygments_lexer": "ipython3",
   "version": "3.10.0"
  }
 },
 "nbformat": 4,
 "nbformat_minor": 5
}
